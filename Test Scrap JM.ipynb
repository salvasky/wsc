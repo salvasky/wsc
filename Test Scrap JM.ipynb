{
 "cells": [
  {
   "cell_type": "code",
   "execution_count": 1,
   "id": "c46822ec",
   "metadata": {},
   "outputs": [],
   "source": [
    "import requests\n",
    "from bs4 import BeautifulSoup"
   ]
  },
  {
   "cell_type": "code",
   "execution_count": 4,
   "id": "0d2b1fc9",
   "metadata": {},
   "outputs": [],
   "source": [
    "str=\"https://thebitcity.wordpress.com\"\n",
    "\n",
    "page = requests.get(str)\n",
    "soup = BeautifulSoup(page.content)\n",
    "\n",
    "#print(soup.prettify())\n",
    "with open('test.html', 'w') as f:\n",
    "    f.write(soup.prettify())"
   ]
  },
  {
   "cell_type": "code",
   "execution_count": 5,
   "id": "90792b38",
   "metadata": {},
   "outputs": [],
   "source": [
    "str_m=\"https://thebitcity.wordpress.com/2016/05/\"\n",
    "\n",
    "page_m = requests.get(str_m)\n",
    "soup_m = BeautifulSoup(page_m.content)\n",
    "\n",
    "#print(soup.prettify())\n",
    "with open('test_m.html', 'w') as f:\n",
    "    f.write(soup.prettify())"
   ]
  },
  {
   "cell_type": "code",
   "execution_count": 19,
   "id": "352e7fc1",
   "metadata": {},
   "outputs": [
    {
     "name": "stdout",
     "output_type": "stream",
     "text": [
      "<class 'bs4.element.Tag'>\n",
      "a\n",
      "{'href': '#'}\n"
     ]
    }
   ],
   "source": [
    "soup_2 = BeautifulSoup('<h1 class=\"entry-title\"><a href=\"#\">Titol</a></h1>')\n",
    "\n",
    "tag = soup_2.a\n",
    "print(type(tag))\n",
    "\n",
    "print(tag.name)\n",
    "\n",
    "print(tag.attrs)"
   ]
  },
  {
   "cell_type": "code",
   "execution_count": 20,
   "id": "bc279803",
   "metadata": {},
   "outputs": [
    {
     "name": "stdout",
     "output_type": "stream",
     "text": [
      "Titol\n"
     ]
    }
   ],
   "source": [
    "print(tag.string)"
   ]
  },
  {
   "cell_type": "code",
   "execution_count": 24,
   "id": "aa7e6a46",
   "metadata": {},
   "outputs": [
    {
     "name": "stdout",
     "output_type": "stream",
     "text": [
      "<title>\n",
      "The Bit City | The 21st century city\t</title>\n",
      "title\n",
      "head\n",
      "<p class=\"wp-caption-text\" id=\"caption-attachment-564\">Four different ways to see an urban space through data. Image based on a photo by Kaique Rocha from <a href=\"https://www.pexels.com/photo/architectural-design-architecture-buildings-city-242133/\" rel=\"noopener\" target=\"_blank\">Pexels</a></p>\n"
     ]
    }
   ],
   "source": [
    "print(soup.title)\n",
    "print(soup.title.name)\n",
    "print(soup.title.parent.name)\n",
    "print(soup.p)"
   ]
  },
  {
   "cell_type": "code",
   "execution_count": 42,
   "id": "6a9356f9",
   "metadata": {},
   "outputs": [
    {
     "name": "stdout",
     "output_type": "stream",
     "text": [
      "<h1 class=\"entry-title\"><a href=\"https://thebitcity.wordpress.com/2016/05/20/is-this-open-data-case-study/\" rel=\"bookmark\">Is this open data? Case study</a></h1>\n",
      "Is this open data? Case study\n",
      "[<h1 class=\"entry-title\"><a href=\"https://thebitcity.wordpress.com/2016/05/20/is-this-open-data-case-study/\" rel=\"bookmark\">Is this open data? Case study</a></h1>, <h1 class=\"entry-title\"><a href=\"https://thebitcity.wordpress.com/2016/05/12/why-intelligent-cities-iv-economical-reasons-conclusion/\" rel=\"bookmark\">Why intelligent cities (IV). Economical reasons &amp; conclusion</a></h1>]\n",
      "Is this open data? Case study\n",
      "Why intelligent cities (IV). Economical reasons & conclusion\n"
     ]
    }
   ],
   "source": [
    "print(soup_m.find(class_='entry-title'))\n",
    "print(soup_m.find(class_='entry-title').string)\n",
    "\n",
    "titles_full = soup_m.find_all(class_='entry-title')\n",
    "print(titles_full)\n",
    "\n",
    "for title_full in titles_full:\n",
    "    print(title_full.string)"
   ]
  },
  {
   "cell_type": "code",
   "execution_count": 44,
   "id": "5527bec2",
   "metadata": {},
   "outputs": [
    {
     "name": "stdout",
     "output_type": "stream",
     "text": [
      "['Is this open data? Case\\xa0study', 'Why intelligent cities (IV). Economical reasons &\\xa0conclusion']\n"
     ]
    }
   ],
   "source": [
    "titles = []\n",
    "\n",
    "for title in soup_m.find_all(class_='entry-title'):\n",
    "    titles.append(title.string)\n",
    "\n",
    "print(titles)"
   ]
  },
  {
   "cell_type": "code",
   "execution_count": null,
   "id": "835aa9f3",
   "metadata": {},
   "outputs": [],
   "source": []
  }
 ],
 "metadata": {
  "kernelspec": {
   "display_name": "Python 3 (ipykernel)",
   "language": "python",
   "name": "python3"
  },
  "language_info": {
   "codemirror_mode": {
    "name": "ipython",
    "version": 3
   },
   "file_extension": ".py",
   "mimetype": "text/x-python",
   "name": "python",
   "nbconvert_exporter": "python",
   "pygments_lexer": "ipython3",
   "version": "3.8.10"
  }
 },
 "nbformat": 4,
 "nbformat_minor": 5
}
